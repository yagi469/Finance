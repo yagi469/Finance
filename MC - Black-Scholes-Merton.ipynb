{
 "cells": [
  {
   "cell_type": "code",
   "execution_count": 57,
   "id": "7ca2bad6",
   "metadata": {},
   "outputs": [],
   "source": [
    "import numpy as np\n",
    "import pandas as pd\n",
    "from pandas_datareader import data as wb\n",
    "from scipy.stats import norm"
   ]
  },
  {
   "cell_type": "markdown",
   "id": "19b4c787",
   "metadata": {},
   "source": [
    "$$\n",
    "    d_1 = \\frac{\\ln(\\frac{S}{K}) + (r + \\frac{stdev^2}{2})t}{s\\cdot\\sqrt{t}}\n",
    "$$\n",
    "\n",
    "$$\n",
    "    d_2 = d_1 - s\\cdot\\sqrt{t} = \\frac{\\ln(\\frac{S}{K}) + (r - \\frac{stdev^2}{2})t}{s\\cdot\\sqrt{t}}\n",
    "$$"
   ]
  },
  {
   "cell_type": "code",
   "execution_count": 58,
   "id": "588b6dc5",
   "metadata": {},
   "outputs": [],
   "source": [
    "def d1(S, K, r, stdev, T):\n",
    "    return (np.log(S / K) + (r + stdev ** 2 /2) * T) / (stdev * np.sqrt(T))\n",
    "\n",
    "def d2(S, K, r, stdev, T):\n",
    "    return (np.log(S / K) + (r - stdev ** 2 /2) * T) / (stdev * np.sqrt(T))\n",
    "    "
   ]
  },
  {
   "cell_type": "code",
   "execution_count": 59,
   "id": "3cce535c",
   "metadata": {},
   "outputs": [
    {
     "data": {
      "text/plain": [
       "0.5"
      ]
     },
     "execution_count": 59,
     "metadata": {},
     "output_type": "execute_result"
    }
   ],
   "source": [
    "norm.cdf(0)"
   ]
  },
  {
   "cell_type": "code",
   "execution_count": 60,
   "id": "4976b947",
   "metadata": {},
   "outputs": [
    {
     "data": {
      "text/plain": [
       "0.5987063256829237"
      ]
     },
     "execution_count": 60,
     "metadata": {},
     "output_type": "execute_result"
    }
   ],
   "source": [
    "norm.cdf(0.25)"
   ]
  },
  {
   "cell_type": "code",
   "execution_count": 61,
   "id": "e93d817b",
   "metadata": {},
   "outputs": [
    {
     "data": {
      "text/plain": [
       "0.7733726476231317"
      ]
     },
     "execution_count": 61,
     "metadata": {},
     "output_type": "execute_result"
    }
   ],
   "source": [
    "norm.cdf(0.75)"
   ]
  },
  {
   "cell_type": "code",
   "execution_count": 62,
   "id": "cf639391",
   "metadata": {},
   "outputs": [
    {
     "data": {
      "text/plain": [
       "1.0"
      ]
     },
     "execution_count": 62,
     "metadata": {},
     "output_type": "execute_result"
    }
   ],
   "source": [
    "norm.cdf(9)"
   ]
  },
  {
   "cell_type": "markdown",
   "id": "1311cdd3",
   "metadata": {},
   "source": [
    "$$\n",
    "    C = SN(d_1) - Ke^{-rt}N(d2)\n",
    "$$"
   ]
  },
  {
   "cell_type": "code",
   "execution_count": 63,
   "id": "0106800a",
   "metadata": {},
   "outputs": [],
   "source": [
    "def BSM(S, K, r, stdev, T):\n",
    "    return (S * norm.cdf(d1(S, K, r, stdev, T))) - (K * np.exp(-r * T) * norm.cdf(d2(S, K, r, stdev, T)))"
   ]
  },
  {
   "cell_type": "code",
   "execution_count": 67,
   "id": "a8692196",
   "metadata": {},
   "outputs": [],
   "source": [
    "ticker = 'PG'\n",
    "data = pd.DataFrame()\n",
    "data[ticker] =wb.DataReader(ticker, data_source='yahoo', start='2011-1-1', end='2019-12-31')['Adj Close']"
   ]
  },
  {
   "cell_type": "code",
   "execution_count": 68,
   "id": "64c756f8",
   "metadata": {},
   "outputs": [
    {
     "data": {
      "text/plain": [
       "PG    118.898987\n",
       "Name: 2019-12-31 00:00:00, dtype: float64"
      ]
     },
     "execution_count": 68,
     "metadata": {},
     "output_type": "execute_result"
    }
   ],
   "source": [
    "S = data.iloc[-1]\n",
    "S"
   ]
  },
  {
   "cell_type": "code",
   "execution_count": 69,
   "id": "20b87a2e",
   "metadata": {},
   "outputs": [],
   "source": [
    "log_returns = np.log(1 + data.pct_change())"
   ]
  },
  {
   "cell_type": "code",
   "execution_count": 71,
   "id": "4187079d",
   "metadata": {},
   "outputs": [
    {
     "data": {
      "text/plain": [
       "PG    0.148889\n",
       "dtype: float64"
      ]
     },
     "execution_count": 71,
     "metadata": {},
     "output_type": "execute_result"
    }
   ],
   "source": [
    "stdev = log_returns.std() * 250 ** 0.5\n",
    "stdev"
   ]
  },
  {
   "cell_type": "code",
   "execution_count": 72,
   "id": "219878e1",
   "metadata": {},
   "outputs": [],
   "source": [
    "r = 0.006\n",
    "K = 130.0\n",
    "T = 1"
   ]
  },
  {
   "cell_type": "code",
   "execution_count": 73,
   "id": "c49a9797",
   "metadata": {},
   "outputs": [
    {
     "data": {
      "text/plain": [
       "PG   -0.484764\n",
       "dtype: float64"
      ]
     },
     "execution_count": 73,
     "metadata": {},
     "output_type": "execute_result"
    }
   ],
   "source": [
    "d1(S, K, r, stdev, T)"
   ]
  },
  {
   "cell_type": "code",
   "execution_count": 74,
   "id": "e868de7f",
   "metadata": {},
   "outputs": [
    {
     "data": {
      "text/plain": [
       "PG   -0.633653\n",
       "dtype: float64"
      ]
     },
     "execution_count": 74,
     "metadata": {},
     "output_type": "execute_result"
    }
   ],
   "source": [
    "d2(S, K, r, stdev, T)"
   ]
  },
  {
   "cell_type": "code",
   "execution_count": 75,
   "id": "a9edc7df",
   "metadata": {},
   "outputs": [
    {
     "data": {
      "text/plain": [
       "PG    3.319676\n",
       "Name: 2019-12-31 00:00:00, dtype: float64"
      ]
     },
     "execution_count": 75,
     "metadata": {},
     "output_type": "execute_result"
    }
   ],
   "source": [
    "BSM(S, K, r, stdev, T)"
   ]
  }
 ],
 "metadata": {
  "kernelspec": {
   "display_name": "Python 3",
   "language": "python",
   "name": "python3"
  },
  "language_info": {
   "codemirror_mode": {
    "name": "ipython",
    "version": 3
   },
   "file_extension": ".py",
   "mimetype": "text/x-python",
   "name": "python",
   "nbconvert_exporter": "python",
   "pygments_lexer": "ipython3",
   "version": "3.8.8"
  }
 },
 "nbformat": 4,
 "nbformat_minor": 5
}
