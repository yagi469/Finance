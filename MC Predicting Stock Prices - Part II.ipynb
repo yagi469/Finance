{
 "cells": [
  {
   "cell_type": "code",
   "execution_count": 36,
   "id": "36b4a0e9",
   "metadata": {},
   "outputs": [
    {
     "data": {
      "text/plain": [
       "pandas.core.series.Series"
      ]
     },
     "execution_count": 36,
     "metadata": {},
     "output_type": "execute_result"
    }
   ],
   "source": [
    "type(drift)"
   ]
  },
  {
   "cell_type": "code",
   "execution_count": 37,
   "id": "9fbffc8d",
   "metadata": {},
   "outputs": [
    {
     "data": {
      "text/plain": [
       "pandas.core.series.Series"
      ]
     },
     "execution_count": 37,
     "metadata": {},
     "output_type": "execute_result"
    }
   ],
   "source": [
    "type(stdev)"
   ]
  },
  {
   "cell_type": "code",
   "execution_count": 38,
   "id": "0d503b26",
   "metadata": {},
   "outputs": [
    {
     "data": {
      "text/plain": [
       "array([0.00035145])"
      ]
     },
     "execution_count": 38,
     "metadata": {},
     "output_type": "execute_result"
    }
   ],
   "source": [
    "np.array(drift)"
   ]
  },
  {
   "cell_type": "code",
   "execution_count": 39,
   "id": "03d1177f",
   "metadata": {},
   "outputs": [
    {
     "data": {
      "text/plain": [
       "array([0.00035145])"
      ]
     },
     "execution_count": 39,
     "metadata": {},
     "output_type": "execute_result"
    }
   ],
   "source": [
    "drift.values"
   ]
  },
  {
   "cell_type": "code",
   "execution_count": 41,
   "id": "8a370564",
   "metadata": {},
   "outputs": [
    {
     "data": {
      "text/plain": [
       "1.6448536269514722"
      ]
     },
     "execution_count": 41,
     "metadata": {},
     "output_type": "execute_result"
    }
   ],
   "source": [
    "norm.ppf(0.95)"
   ]
  },
  {
   "cell_type": "code",
   "execution_count": 42,
   "id": "a0b0b2cb",
   "metadata": {},
   "outputs": [
    {
     "data": {
      "text/plain": [
       "array([[0.6635448 , 0.9655314 ],\n",
       "       [0.17752634, 0.67588964],\n",
       "       [0.12731798, 0.95315111],\n",
       "       [0.09202447, 0.75722467],\n",
       "       [0.89173569, 0.930387  ],\n",
       "       [0.64810904, 0.7246568 ],\n",
       "       [0.54619804, 0.29562469],\n",
       "       [0.24287138, 0.79798929],\n",
       "       [0.62418397, 0.04159085],\n",
       "       [0.28619314, 0.66372043]])"
      ]
     },
     "execution_count": 42,
     "metadata": {},
     "output_type": "execute_result"
    }
   ],
   "source": [
    "x = np.random.rand(10, 2)\n",
    "x"
   ]
  },
  {
   "cell_type": "code",
   "execution_count": 43,
   "id": "dae6c00a",
   "metadata": {},
   "outputs": [
    {
     "data": {
      "text/plain": [
       "array([[ 0.42215702,  1.81883116],\n",
       "       [-0.92483318,  0.4562354 ],\n",
       "       [-1.13916114,  1.67620635],\n",
       "       [-1.32839112,  0.69740295],\n",
       "       [ 1.23581154,  1.47867946],\n",
       "       [ 0.38022026,  0.5967319 ],\n",
       "       [ 0.11606134, -0.53702641],\n",
       "       [-0.69709593,  0.83446072],\n",
       "       [ 0.31648809, -1.73251619],\n",
       "       [-0.56454059,  0.42263836]])"
      ]
     },
     "execution_count": 43,
     "metadata": {},
     "output_type": "execute_result"
    }
   ],
   "source": [
    "norm.ppf(x)"
   ]
  },
  {
   "cell_type": "code",
   "execution_count": 44,
   "id": "81b86811",
   "metadata": {},
   "outputs": [
    {
     "data": {
      "text/plain": [
       "array([[-0.88629787, -0.07523336],\n",
       "       [ 0.11200823,  0.32416139],\n",
       "       [-0.46893707, -0.34106632],\n",
       "       [ 0.57724602, -0.21813207],\n",
       "       [ 0.67757317, -1.26107314],\n",
       "       [-0.80382268, -0.11177436],\n",
       "       [ 0.94421934,  0.23950195],\n",
       "       [ 1.15173011,  1.74593064],\n",
       "       [ 0.01621392,  1.28326988],\n",
       "       [-0.4404186 , -0.16381687]])"
      ]
     },
     "execution_count": 44,
     "metadata": {},
     "output_type": "execute_result"
    }
   ],
   "source": [
    "Z = norm.ppf(np.random.rand(10, 2))\n",
    "Z"
   ]
  },
  {
   "cell_type": "code",
   "execution_count": 45,
   "id": "c458081a",
   "metadata": {},
   "outputs": [],
   "source": [
    "t_intervals = 1000\n",
    "iterations = 10"
   ]
  },
  {
   "cell_type": "markdown",
   "id": "087a9f51",
   "metadata": {},
   "source": [
    "$$\n",
    "    daily\\_ returns = e^r \n",
    "$$\n",
    "$$\n",
    "    r = drift + stdev\\cdot z\n",
    "$$"
   ]
  },
  {
   "cell_type": "code",
   "execution_count": 46,
   "id": "c910b46b",
   "metadata": {},
   "outputs": [],
   "source": [
    "daily_returns = np.exp(drift.values + stdev.values * norm.ppf(np.random.rand(t_intervals, iterations)))"
   ]
  },
  {
   "cell_type": "code",
   "execution_count": 47,
   "id": "d00ed2e6",
   "metadata": {},
   "outputs": [
    {
     "data": {
      "text/plain": [
       "array([[0.99988513, 1.00796628, 1.00634992, ..., 1.00351774, 0.98117552,\n",
       "        0.98045016],\n",
       "       [1.00508656, 1.02020815, 1.00179511, ..., 0.99569183, 1.01647944,\n",
       "        0.98957112],\n",
       "       [1.00877515, 1.0175122 , 0.99594184, ..., 1.00776926, 0.99950519,\n",
       "        0.99354404],\n",
       "       ...,\n",
       "       [0.99946475, 1.00111601, 1.01678604, ..., 0.99710681, 1.00515521,\n",
       "        1.00846778],\n",
       "       [1.00123344, 0.98849584, 0.99153783, ..., 0.98963593, 0.99611337,\n",
       "        1.00879134],\n",
       "       [0.99066991, 1.00562241, 1.01189628, ..., 0.99088042, 0.9958941 ,\n",
       "        1.00686287]])"
      ]
     },
     "execution_count": 47,
     "metadata": {},
     "output_type": "execute_result"
    }
   ],
   "source": [
    "daily_returns"
   ]
  }
 ],
 "metadata": {
  "kernelspec": {
   "display_name": "Python 3",
   "language": "python",
   "name": "python3"
  },
  "language_info": {
   "codemirror_mode": {
    "name": "ipython",
    "version": 3
   },
   "file_extension": ".py",
   "mimetype": "text/x-python",
   "name": "python",
   "nbconvert_exporter": "python",
   "pygments_lexer": "ipython3",
   "version": "3.8.8"
  }
 },
 "nbformat": 4,
 "nbformat_minor": 5
}
