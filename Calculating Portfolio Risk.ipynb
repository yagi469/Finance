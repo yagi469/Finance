{
 "cells": [
  {
   "cell_type": "markdown",
   "id": "2036380c",
   "metadata": {},
   "source": [
    "## ポートフォリオのリスクの計算"
   ]
  },
  {
   "cell_type": "markdown",
   "id": "8555d90f",
   "metadata": {},
   "source": [
    "### 均等な重み："
   ]
  },
  {
   "cell_type": "code",
   "execution_count": 86,
   "id": "a11d317e",
   "metadata": {},
   "outputs": [],
   "source": [
    "weights = np.array([0.5, 0.5])"
   ]
  },
  {
   "cell_type": "markdown",
   "id": "405f078a",
   "metadata": {},
   "source": [
    "### ポートフォリオの分散"
   ]
  },
  {
   "cell_type": "code",
   "execution_count": 87,
   "id": "83b8e409",
   "metadata": {},
   "outputs": [
    {
     "data": {
      "text/plain": [
       "0.02270190518603034"
      ]
     },
     "execution_count": 87,
     "metadata": {},
     "output_type": "execute_result"
    }
   ],
   "source": [
    "pfolio_var = np.dot(weights.T, np.dot(sec_returns.cov() * 250, weights))\n",
    "pfolio_var"
   ]
  },
  {
   "cell_type": "markdown",
   "id": "d45337ea",
   "metadata": {},
   "source": [
    "### ポートフォリオのボラティリティ"
   ]
  },
  {
   "cell_type": "code",
   "execution_count": 88,
   "id": "16c84f1c",
   "metadata": {},
   "outputs": [
    {
     "data": {
      "text/plain": [
       "0.1506715141824437"
      ]
     },
     "execution_count": 88,
     "metadata": {},
     "output_type": "execute_result"
    }
   ],
   "source": [
    "pfolio_vol = (np.dot(weights.T, np.dot(sec_returns.cov() * 250, weights))) ** 0.5\n",
    "pfolio_vol"
   ]
  },
  {
   "cell_type": "code",
   "execution_count": 89,
   "id": "05236836",
   "metadata": {},
   "outputs": [
    {
     "name": "stdout",
     "output_type": "stream",
     "text": [
      "15.067 %\n"
     ]
    }
   ],
   "source": [
    "print(str(round(pfolio_vol, 5) * 100) + ' %')"
   ]
  }
 ],
 "metadata": {
  "kernelspec": {
   "display_name": "Python 3",
   "language": "python",
   "name": "python3"
  },
  "language_info": {
   "codemirror_mode": {
    "name": "ipython",
    "version": 3
   },
   "file_extension": ".py",
   "mimetype": "text/x-python",
   "name": "python",
   "nbconvert_exporter": "python",
   "pygments_lexer": "ipython3",
   "version": "3.8.8"
  }
 },
 "nbformat": 4,
 "nbformat_minor": 5
}
