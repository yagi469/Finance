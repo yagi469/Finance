{
 "cells": [
  {
   "cell_type": "markdown",
   "id": "c421c4b5",
   "metadata": {},
   "source": [
    "### P&Gの期待利益率の計算：                               "
   ]
  },
  {
   "cell_type": "markdown",
   "id": "d7832d99",
   "metadata": {},
   "source": [
    "$$\n",
    "    \\overline{r_{pg}}=r_f+\\beta_{pg}(\\overline{r_m}-r_f)\n",
    "$$"
   ]
  },
  {
   "cell_type": "code",
   "execution_count": 172,
   "id": "b84c166d",
   "metadata": {},
   "outputs": [
    {
     "data": {
      "text/plain": [
       "0.03430442773965812"
      ]
     },
     "execution_count": 172,
     "metadata": {},
     "output_type": "execute_result"
    }
   ],
   "source": [
    "PG_er = 0.006 + PG_beta * 0.05\n",
    "PG_er"
   ]
  }
 ],
 "metadata": {
  "kernelspec": {
   "display_name": "Python 3",
   "language": "python",
   "name": "python3"
  },
  "language_info": {
   "codemirror_mode": {
    "name": "ipython",
    "version": 3
   },
   "file_extension": ".py",
   "mimetype": "text/x-python",
   "name": "python",
   "nbconvert_exporter": "python",
   "pygments_lexer": "ipython3",
   "version": "3.8.8"
  }
 },
 "nbformat": 4,
 "nbformat_minor": 5
}
