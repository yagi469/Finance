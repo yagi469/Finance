{
 "cells": [
  {
   "cell_type": "markdown",
   "id": "a97871ce",
   "metadata": {},
   "source": [
    "### シャープレシオ："
   ]
  },
  {
   "cell_type": "markdown",
   "id": "661f4bc7",
   "metadata": {},
   "source": [
    "$$\n",
    "    Sharpe = \\frac{\\overline{r_{pg}}-r_f}{\\sigma_{pg}}\n",
    "$$"
   ]
  },
  {
   "cell_type": "code",
   "execution_count": 173,
   "id": "4d728312",
   "metadata": {},
   "outputs": [
    {
     "data": {
      "text/plain": [
       "0.18195833402365336"
      ]
     },
     "execution_count": 173,
     "metadata": {},
     "output_type": "execute_result"
    }
   ],
   "source": [
    "Sharpe = (PG_er - 0.006) / (sec_returns['PG'].std() * 250 ** 0.5)\n",
    "Sharpe"
   ]
  }
 ],
 "metadata": {
  "kernelspec": {
   "display_name": "Python 3",
   "language": "python",
   "name": "python3"
  },
  "language_info": {
   "codemirror_mode": {
    "name": "ipython",
    "version": 3
   },
   "file_extension": ".py",
   "mimetype": "text/x-python",
   "name": "python",
   "nbconvert_exporter": "python",
   "pygments_lexer": "ipython3",
   "version": "3.8.8"
  }
 },
 "nbformat": 4,
 "nbformat_minor": 5
}
